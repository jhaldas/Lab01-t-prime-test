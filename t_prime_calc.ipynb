{
  "nbformat": 4,
  "nbformat_minor": 0,
  "metadata": {
    "colab": {
      "name": "t-prime-calc.ipynb",
      "provenance": [],
      "authorship_tag": "ABX9TyNkyMr2xWElGVw0siE42ptx",
      "include_colab_link": true
    },
    "kernelspec": {
      "name": "python3",
      "display_name": "Python 3"
    },
    "language_info": {
      "name": "python"
    }
  },
  "cells": [
    {
      "cell_type": "markdown",
      "metadata": {
        "id": "view-in-github",
        "colab_type": "text"
      },
      "source": [
        "<a href=\"https://colab.research.google.com/github/jhaldas/Lab01-t-prime-test/blob/main/t_prime_calc.ipynb\" target=\"_parent\"><img src=\"https://colab.research.google.com/assets/colab-badge.svg\" alt=\"Open In Colab\"/></a>"
      ]
    },
    {
      "cell_type": "markdown",
      "metadata": {
        "id": "NBisi2KwVMC7"
      },
      "source": [
        "Code by Jonathan Haldas, derived from Adam LaMee's Analyzing Measurement Uncertainty found here https://colab.research.google.com/github/adamlamee/UCF_labs/blob/master/making_comparisons.ipynb#scrollTo=2-ETFAEjTMMs"
      ]
    },
    {
      "cell_type": "code",
      "metadata": {
        "id": "LryxrYWO1JCn"
      },
      "source": [
        "import numpy as np                   \n",
        "import matplotlib.pyplot as plt"
      ],
      "execution_count": 111,
      "outputs": []
    },
    {
      "cell_type": "code",
      "metadata": {
        "id": "-H_Nf0e91L7C"
      },
      "source": [
        "sample_a = [40.52, 38.89, 36.87]               # input here measurements from trial 1\n",
        "sample_b = [40.39, 39.12, 36.97]               # input here measurements from trial 2\n",
        "sample_c = [40.43, 39.12, 37.18]               # input here measurements from triral 3"
      ],
      "execution_count": 112,
      "outputs": []
    },
    {
      "cell_type": "code",
      "metadata": {
        "id": "Nq92ZTXr1QXx"
      },
      "source": [
        "a_mean = np.mean(sample_a)   # calculates the means of sample a, b and c.\n",
        "b_mean = np.mean(sample_b)\n",
        "c_mean = np.mean(sample_c)"
      ],
      "execution_count": 113,
      "outputs": []
    },
    {
      "cell_type": "code",
      "metadata": {
        "colab": {
          "base_uri": "https://localhost:8080/"
        },
        "id": "_R6gblP6wTW2",
        "outputId": "e32dec25-ca3d-4dce-8226-88b23dea726a"
      },
      "source": [
        "a_mean #prints a_mean"
      ],
      "execution_count": 114,
      "outputs": [
        {
          "output_type": "execute_result",
          "data": {
            "text/plain": [
              "38.76"
            ]
          },
          "metadata": {
            "tags": []
          },
          "execution_count": 114
        }
      ]
    },
    {
      "cell_type": "code",
      "metadata": {
        "colab": {
          "base_uri": "https://localhost:8080/"
        },
        "id": "GhEIOWZ1wUmN",
        "outputId": "59ef6b49-a6ad-41a9-d5fd-930d8de70da3"
      },
      "source": [
        "b_mean #prints b_mean"
      ],
      "execution_count": 115,
      "outputs": [
        {
          "output_type": "execute_result",
          "data": {
            "text/plain": [
              "38.82666666666666"
            ]
          },
          "metadata": {
            "tags": []
          },
          "execution_count": 115
        }
      ]
    },
    {
      "cell_type": "code",
      "metadata": {
        "colab": {
          "base_uri": "https://localhost:8080/"
        },
        "id": "ZzyCs6C-wUrY",
        "outputId": "68a8d1f5-f21c-40e3-f479-be3e5eb6cf82"
      },
      "source": [
        "c_mean #prints c_mean"
      ],
      "execution_count": 116,
      "outputs": [
        {
          "output_type": "execute_result",
          "data": {
            "text/plain": [
              "38.91"
            ]
          },
          "metadata": {
            "tags": []
          },
          "execution_count": 116
        }
      ]
    },
    {
      "cell_type": "code",
      "metadata": {
        "id": "-a6kHNTNUCh8"
      },
      "source": [
        "a_stdev = np.std(sample_a)      # calculates standard deviation of sample a, b and c.\n",
        "b_stdev = np.std(sample_b)\n",
        "c_stdev = np.std(sample_c)"
      ],
      "execution_count": 117,
      "outputs": []
    },
    {
      "cell_type": "code",
      "metadata": {
        "colab": {
          "base_uri": "https://localhost:8080/"
        },
        "id": "6X8p7upywlYm",
        "outputId": "8ddb2293-9b69-457d-dd90-d384e10018bb"
      },
      "source": [
        "a_stdev #prints a_stdev"
      ],
      "execution_count": 118,
      "outputs": [
        {
          "output_type": "execute_result",
          "data": {
            "text/plain": [
              "1.4929389360140197"
            ]
          },
          "metadata": {
            "tags": []
          },
          "execution_count": 118
        }
      ]
    },
    {
      "cell_type": "code",
      "metadata": {
        "colab": {
          "base_uri": "https://localhost:8080/"
        },
        "id": "SRqKk2XGwlau",
        "outputId": "062daa85-1905-4c31-ffeb-389ccad03c73"
      },
      "source": [
        "b_stdev #prints b_stdev"
      ],
      "execution_count": 119,
      "outputs": [
        {
          "output_type": "execute_result",
          "data": {
            "text/plain": [
              "1.4115318707780649"
            ]
          },
          "metadata": {
            "tags": []
          },
          "execution_count": 119
        }
      ]
    },
    {
      "cell_type": "code",
      "metadata": {
        "colab": {
          "base_uri": "https://localhost:8080/"
        },
        "id": "iYkjBqZPwldN",
        "outputId": "de0a63ee-79b9-406d-c30d-26d1d638bdce"
      },
      "source": [
        "c_stdev #prints c_stdev"
      ],
      "execution_count": 120,
      "outputs": [
        {
          "output_type": "execute_result",
          "data": {
            "text/plain": [
              "1.3350905087920693"
            ]
          },
          "metadata": {
            "tags": []
          },
          "execution_count": 120
        }
      ]
    },
    {
      "cell_type": "code",
      "metadata": {
        "id": "b8oVeTN4UPoJ"
      },
      "source": [
        "a_stunc = a_stdev / np.sqrt(len(sample_a)) # calculates standard uncertainty of sample a, b and c.\n",
        "b_stunc = b_stdev / np.sqrt(len(sample_b))  \n",
        "c_stunc = c_stdev / np.sqrt(len(sample_c))  "
      ],
      "execution_count": 121,
      "outputs": []
    },
    {
      "cell_type": "code",
      "metadata": {
        "colab": {
          "base_uri": "https://localhost:8080/"
        },
        "id": "1_vRT7z8URQT",
        "outputId": "7c97b1eb-886d-45e0-b85f-1ceac78124fb"
      },
      "source": [
        "a_stunc #prints a_stunc"
      ],
      "execution_count": 122,
      "outputs": [
        {
          "output_type": "execute_result",
          "data": {
            "text/plain": [
              "0.8619486965913679"
            ]
          },
          "metadata": {
            "tags": []
          },
          "execution_count": 122
        }
      ]
    },
    {
      "cell_type": "code",
      "metadata": {
        "colab": {
          "base_uri": "https://localhost:8080/"
        },
        "id": "XHsFUMkmwoK6",
        "outputId": "fa9c52fb-bf35-477f-9694-b40b15b670a8"
      },
      "source": [
        "b_stunc #prints b_stunc"
      ],
      "execution_count": 123,
      "outputs": [
        {
          "output_type": "execute_result",
          "data": {
            "text/plain": [
              "0.8149483055634519"
            ]
          },
          "metadata": {
            "tags": []
          },
          "execution_count": 123
        }
      ]
    },
    {
      "cell_type": "code",
      "metadata": {
        "colab": {
          "base_uri": "https://localhost:8080/"
        },
        "id": "AMX74yUPwoyR",
        "outputId": "56604f4d-9452-47ae-a149-1b3b14ebba3d"
      },
      "source": [
        "c_stunc #prints c_stunc"
      ],
      "execution_count": 124,
      "outputs": [
        {
          "output_type": "execute_result",
          "data": {
            "text/plain": [
              "0.7708148646436157"
            ]
          },
          "metadata": {
            "tags": []
          },
          "execution_count": 124
        }
      ]
    },
    {
      "cell_type": "code",
      "metadata": {
        "colab": {
          "base_uri": "https://localhost:8080/"
        },
        "id": "gHqQYMgJUXd9",
        "outputId": "71b8cefc-fe5a-46df-8735-3eeb2d634062"
      },
      "source": [
        "# t' statistic of a and b\n",
        "t_prime = (a_mean - b_mean) / np.sqrt(a_stunc**2 + b_stunc**2)\n",
        "abs(t_prime)"
      ],
      "execution_count": 125,
      "outputs": [
        {
          "output_type": "execute_result",
          "data": {
            "text/plain": [
              "0.05620136076756411"
            ]
          },
          "metadata": {
            "tags": []
          },
          "execution_count": 125
        }
      ]
    },
    {
      "cell_type": "code",
      "metadata": {
        "colab": {
          "base_uri": "https://localhost:8080/"
        },
        "id": "rSjW54D-zL_v",
        "outputId": "7e28bcfb-a540-4f54-f637-0d87e7991ebe"
      },
      "source": [
        "# t' statistic of a and c\n",
        "t_prime = (a_mean - c_mean) / np.sqrt(a_stunc**2 + c_stunc**2)\n",
        "abs(t_prime)"
      ],
      "execution_count": 126,
      "outputs": [
        {
          "output_type": "execute_result",
          "data": {
            "text/plain": [
              "0.129720170312893"
            ]
          },
          "metadata": {
            "tags": []
          },
          "execution_count": 126
        }
      ]
    },
    {
      "cell_type": "code",
      "metadata": {
        "colab": {
          "base_uri": "https://localhost:8080/"
        },
        "id": "Djid5blDzln5",
        "outputId": "b43e36c1-c4bd-45a1-c506-a67fe7f86a0a"
      },
      "source": [
        "# t' statistic of b and c\n",
        "t_prime = (b_mean - c_mean) / np.sqrt(b_stunc**2 + c_stunc**2)\n",
        "abs(t_prime)"
      ],
      "execution_count": 127,
      "outputs": [
        {
          "output_type": "execute_result",
          "data": {
            "text/plain": [
              "0.07428947595528927"
            ]
          },
          "metadata": {
            "tags": []
          },
          "execution_count": 127
        }
      ]
    }
  ]
}